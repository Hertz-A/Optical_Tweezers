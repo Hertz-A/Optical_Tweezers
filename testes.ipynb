{
 "cells": [
  {
   "cell_type": "code",
   "execution_count": 5,
   "id": "2eb6a4d4",
   "metadata": {},
   "outputs": [],
   "source": [
    "import numpy as np"
   ]
  },
  {
   "cell_type": "code",
   "execution_count": 6,
   "id": "b4cede89",
   "metadata": {},
   "outputs": [],
   "source": [
    "c = 3*1e8\n",
    "r = 71*1e-9\n",
    "m = 2.7*1e-18\n",
    "P = 100\n",
    "waist = 5*1e-6\n",
    "n_p = 1.43\n",
    "epsilon = 8.854*1e-12\n",
    "beta = 4*1e13\n",
    "lamb = 1064*1e-9\n",
    "t = 1*1e-3"
   ]
  },
  {
   "cell_type": "code",
   "execution_count": 11,
   "id": "b76315e7",
   "metadata": {},
   "outputs": [
    {
     "name": "stdout",
     "output_type": "stream",
     "text": [
      "6773.634377991067\n"
     ]
    }
   ],
   "source": [
    "I = P/(np.pi*(waist**2))\n",
    "alpha = 4*np.pi*epsilon*(r**3)*((n_p**2)-1)/((n_p**2)+2)\n",
    "q = (4*np.pi)/(lamb)\n",
    "deltaomega = (beta*t)/(2*np.pi)/(1e9)\n",
    "deltaf = (beta*t)/(2*np.pi)/(1e9)\n",
    "energyneeded = I*(np.pi*(waist**2))*t\n",
    "acc = (alpha * q * I)/(m*epsilon*c)\n",
    "disp = 0.5*acc*t**2\n",
    "vel = (2*beta*t)/q\n",
    "print(vel)"
   ]
  }
 ],
 "metadata": {
  "kernelspec": {
   "display_name": "Python 3",
   "language": "python",
   "name": "python3"
  },
  "language_info": {
   "codemirror_mode": {
    "name": "ipython",
    "version": 3
   },
   "file_extension": ".py",
   "mimetype": "text/x-python",
   "name": "python",
   "nbconvert_exporter": "python",
   "pygments_lexer": "ipython3",
   "version": "3.9.6"
  }
 },
 "nbformat": 4,
 "nbformat_minor": 5
}
