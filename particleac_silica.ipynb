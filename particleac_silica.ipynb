{
 "cells": [
  {
   "cell_type": "code",
   "execution_count": 24,
   "id": "2eb6a4d4",
   "metadata": {},
   "outputs": [],
   "source": [
    "import numpy as np"
   ]
  },
  {
   "cell_type": "code",
   "execution_count": 25,
   "id": "b4cede89",
   "metadata": {},
   "outputs": [],
   "source": [
    "c = 3*1e8\n",
    "R = 300*1e-9\n",
    "P = 800*1e-3\n",
    "waist = 2.9250000000000004e-06\n",
    "n_p = 1.46\n",
    "epsilon = 8.854*1e-12\n",
    "beta = 1*1e5 #frequency chirp\n",
    "lamb = 1064*1e-9\n",
    "t = 0.1\n",
    "density = 1850  # kg/m³ (SiO2)]\n",
    "n_md = 1\n"
   ]
  },
  {
   "cell_type": "code",
   "execution_count": 26,
   "id": "57c153a1",
   "metadata": {},
   "outputs": [],
   "source": [
    "volume = (4/3) * np.pi * (R**3)\n",
    "m = density * volume  # kg\n",
    "m_rri = n_p/n_md"
   ]
  },
  {
   "cell_type": "code",
   "execution_count": 27,
   "id": "b76315e7",
   "metadata": {},
   "outputs": [
    {
     "name": "stdout",
     "output_type": "stream",
     "text": [
      "1.6934085944977666 mm/s\n"
     ]
    }
   ],
   "source": [
    "alpha = 3*volume*epsilon*(((m_rri**2)-1)/((m_rri**2)+2))\n",
    "q = (4*np.pi)/(lamb)\n",
    "vel = (2*beta*t)/q\n",
    "print(vel*1e3, \"mm/s\")"
   ]
  }
 ],
 "metadata": {
  "kernelspec": {
   "display_name": "Python 3",
   "language": "python",
   "name": "python3"
  },
  "language_info": {
   "codemirror_mode": {
    "name": "ipython",
    "version": 3
   },
   "file_extension": ".py",
   "mimetype": "text/x-python",
   "name": "python",
   "nbconvert_exporter": "python",
   "pygments_lexer": "ipython3",
   "version": "3.9.6"
  }
 },
 "nbformat": 4,
 "nbformat_minor": 5
}
